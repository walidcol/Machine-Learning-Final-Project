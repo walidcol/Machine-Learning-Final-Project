{
 "cells": [
  {
   "cell_type": "code",
   "execution_count": 2,
   "metadata": {},
   "outputs": [],
   "source": [
    "import numpy as np\n",
    "import seaborn as sns\n",
    "import matplotlib.pyplot as plt\n",
    "from sklearn.preprocessing import StandardScaler, LabelEncoder, OneHotEncoder\n",
    "from sklearn.model_selection import train_test_split\n",
    "import statsmodels.formula.api as sm\n",
    "from sklearn.linear_model import LinearRegression\n",
    "from sklearn.ensemble import RandomForestRegressor\n",
    "import pandas as pd"
   ]
  },
  {
   "cell_type": "code",
   "execution_count": 3,
   "metadata": {},
   "outputs": [],
   "source": [
    "df = pd.read_csv('/Users/Aziz/Desktop/Machine-Learning-Final-Project/resources/nyc-rolling-sales.csv')\n"
   ]
  },
  {
   "cell_type": "code",
   "execution_count": 4,
   "metadata": {},
   "outputs": [
    {
     "data": {
      "text/html": [
       "<div>\n",
       "<style scoped>\n",
       "    .dataframe tbody tr th:only-of-type {\n",
       "        vertical-align: middle;\n",
       "    }\n",
       "\n",
       "    .dataframe tbody tr th {\n",
       "        vertical-align: top;\n",
       "    }\n",
       "\n",
       "    .dataframe thead th {\n",
       "        text-align: right;\n",
       "    }\n",
       "</style>\n",
       "<table border=\"1\" class=\"dataframe\">\n",
       "  <thead>\n",
       "    <tr style=\"text-align: right;\">\n",
       "      <th></th>\n",
       "      <th>BOROUGH</th>\n",
       "      <th>BUILDING CLASS CATEGORY</th>\n",
       "      <th>TAX CLASS AT PRESENT</th>\n",
       "      <th>BLOCK</th>\n",
       "      <th>LOT</th>\n",
       "      <th>ZIP CODE</th>\n",
       "      <th>RESIDENTIAL UNITS</th>\n",
       "      <th>COMMERCIAL UNITS</th>\n",
       "      <th>TOTAL UNITS</th>\n",
       "      <th>LAND SQUARE FEET</th>\n",
       "      <th>GROSS SQUARE FEET</th>\n",
       "      <th>YEAR BUILT</th>\n",
       "      <th>TAX CLASS AT TIME OF SALE</th>\n",
       "      <th>SALE PRICE</th>\n",
       "    </tr>\n",
       "  </thead>\n",
       "  <tbody>\n",
       "    <tr>\n",
       "      <th>0</th>\n",
       "      <td>1</td>\n",
       "      <td>07 RENTALS - WALKUP APARTMENTS</td>\n",
       "      <td>2A</td>\n",
       "      <td>392</td>\n",
       "      <td>6</td>\n",
       "      <td>10009</td>\n",
       "      <td>5</td>\n",
       "      <td>0</td>\n",
       "      <td>5</td>\n",
       "      <td>1633</td>\n",
       "      <td>6440</td>\n",
       "      <td>1900</td>\n",
       "      <td>2</td>\n",
       "      <td>6625000</td>\n",
       "    </tr>\n",
       "    <tr>\n",
       "      <th>1</th>\n",
       "      <td>1</td>\n",
       "      <td>07 RENTALS - WALKUP APARTMENTS</td>\n",
       "      <td>2</td>\n",
       "      <td>399</td>\n",
       "      <td>26</td>\n",
       "      <td>10009</td>\n",
       "      <td>28</td>\n",
       "      <td>3</td>\n",
       "      <td>31</td>\n",
       "      <td>4616</td>\n",
       "      <td>18690</td>\n",
       "      <td>1900</td>\n",
       "      <td>2</td>\n",
       "      <td>-</td>\n",
       "    </tr>\n",
       "    <tr>\n",
       "      <th>2</th>\n",
       "      <td>1</td>\n",
       "      <td>07 RENTALS - WALKUP APARTMENTS</td>\n",
       "      <td>2</td>\n",
       "      <td>399</td>\n",
       "      <td>39</td>\n",
       "      <td>10009</td>\n",
       "      <td>16</td>\n",
       "      <td>1</td>\n",
       "      <td>17</td>\n",
       "      <td>2212</td>\n",
       "      <td>7803</td>\n",
       "      <td>1900</td>\n",
       "      <td>2</td>\n",
       "      <td>-</td>\n",
       "    </tr>\n",
       "    <tr>\n",
       "      <th>3</th>\n",
       "      <td>1</td>\n",
       "      <td>07 RENTALS - WALKUP APARTMENTS</td>\n",
       "      <td>2B</td>\n",
       "      <td>402</td>\n",
       "      <td>21</td>\n",
       "      <td>10009</td>\n",
       "      <td>10</td>\n",
       "      <td>0</td>\n",
       "      <td>10</td>\n",
       "      <td>2272</td>\n",
       "      <td>6794</td>\n",
       "      <td>1913</td>\n",
       "      <td>2</td>\n",
       "      <td>3936272</td>\n",
       "    </tr>\n",
       "    <tr>\n",
       "      <th>4</th>\n",
       "      <td>1</td>\n",
       "      <td>07 RENTALS - WALKUP APARTMENTS</td>\n",
       "      <td>2A</td>\n",
       "      <td>404</td>\n",
       "      <td>55</td>\n",
       "      <td>10009</td>\n",
       "      <td>6</td>\n",
       "      <td>0</td>\n",
       "      <td>6</td>\n",
       "      <td>2369</td>\n",
       "      <td>4615</td>\n",
       "      <td>1900</td>\n",
       "      <td>2</td>\n",
       "      <td>8000000</td>\n",
       "    </tr>\n",
       "  </tbody>\n",
       "</table>\n",
       "</div>"
      ],
      "text/plain": [
       "   BOROUGH                      BUILDING CLASS CATEGORY TAX CLASS AT PRESENT  \\\n",
       "0        1  07 RENTALS - WALKUP APARTMENTS                                2A   \n",
       "1        1  07 RENTALS - WALKUP APARTMENTS                                 2   \n",
       "2        1  07 RENTALS - WALKUP APARTMENTS                                 2   \n",
       "3        1  07 RENTALS - WALKUP APARTMENTS                                2B   \n",
       "4        1  07 RENTALS - WALKUP APARTMENTS                                2A   \n",
       "\n",
       "   BLOCK  LOT  ZIP CODE  RESIDENTIAL UNITS  COMMERCIAL UNITS  TOTAL UNITS  \\\n",
       "0    392    6     10009                  5                 0            5   \n",
       "1    399   26     10009                 28                 3           31   \n",
       "2    399   39     10009                 16                 1           17   \n",
       "3    402   21     10009                 10                 0           10   \n",
       "4    404   55     10009                  6                 0            6   \n",
       "\n",
       "  LAND SQUARE FEET GROSS SQUARE FEET  YEAR BUILT  TAX CLASS AT TIME OF SALE  \\\n",
       "0             1633              6440        1900                          2   \n",
       "1             4616             18690        1900                          2   \n",
       "2             2212              7803        1900                          2   \n",
       "3             2272              6794        1913                          2   \n",
       "4             2369              4615        1900                          2   \n",
       "\n",
       "  SALE PRICE  \n",
       "0    6625000  \n",
       "1        -    \n",
       "2        -    \n",
       "3    3936272  \n",
       "4    8000000  "
      ]
     },
     "execution_count": 4,
     "metadata": {},
     "output_type": "execute_result"
    }
   ],
   "source": [
    "df.drop(['Unnamed: 0','ADDRESS','EASE-MENT','APARTMENT NUMBER','SALE DATE','NEIGHBORHOOD','BUILDING CLASS AT PRESENT','BUILDING CLASS AT TIME OF SALE'],inplace=True, axis=1)\n",
    "df.head()"
   ]
  },
  {
   "cell_type": "code",
   "execution_count": 5,
   "metadata": {},
   "outputs": [
    {
     "name": "stderr",
     "output_type": "stream",
     "text": [
      "/Users/Aziz/anaconda3/lib/python3.7/site-packages/ipykernel_launcher.py:1: SettingWithCopyWarning: \n",
      "A value is trying to be set on a copy of a slice from a DataFrame\n",
      "\n",
      "See the caveats in the documentation: http://pandas.pydata.org/pandas-docs/stable/indexing.html#indexing-view-versus-copy\n",
      "  \"\"\"Entry point for launching an IPython kernel.\n"
     ]
    },
    {
     "data": {
      "text/html": [
       "<div>\n",
       "<style scoped>\n",
       "    .dataframe tbody tr th:only-of-type {\n",
       "        vertical-align: middle;\n",
       "    }\n",
       "\n",
       "    .dataframe tbody tr th {\n",
       "        vertical-align: top;\n",
       "    }\n",
       "\n",
       "    .dataframe thead th {\n",
       "        text-align: right;\n",
       "    }\n",
       "</style>\n",
       "<table border=\"1\" class=\"dataframe\">\n",
       "  <thead>\n",
       "    <tr style=\"text-align: right;\">\n",
       "      <th></th>\n",
       "      <th>BOROUGH</th>\n",
       "      <th>BUILDING CLASS CATEGORY</th>\n",
       "      <th>TAX CLASS AT PRESENT</th>\n",
       "      <th>BLOCK</th>\n",
       "      <th>LOT</th>\n",
       "      <th>ZIP CODE</th>\n",
       "      <th>RESIDENTIAL UNITS</th>\n",
       "      <th>COMMERCIAL UNITS</th>\n",
       "      <th>TOTAL UNITS</th>\n",
       "      <th>LAND SQUARE FEET</th>\n",
       "      <th>GROSS SQUARE FEET</th>\n",
       "      <th>YEAR BUILT</th>\n",
       "      <th>TAX CLASS AT TIME OF SALE</th>\n",
       "      <th>SALE PRICE</th>\n",
       "    </tr>\n",
       "  </thead>\n",
       "  <tbody>\n",
       "    <tr>\n",
       "      <th>0</th>\n",
       "      <td>Manhattan</td>\n",
       "      <td>07 RENTALS - WALKUP APARTMENTS</td>\n",
       "      <td>2A</td>\n",
       "      <td>392</td>\n",
       "      <td>6</td>\n",
       "      <td>10009</td>\n",
       "      <td>5</td>\n",
       "      <td>0</td>\n",
       "      <td>5</td>\n",
       "      <td>1633</td>\n",
       "      <td>6440</td>\n",
       "      <td>1900</td>\n",
       "      <td>2</td>\n",
       "      <td>6625000</td>\n",
       "    </tr>\n",
       "    <tr>\n",
       "      <th>1</th>\n",
       "      <td>Manhattan</td>\n",
       "      <td>07 RENTALS - WALKUP APARTMENTS</td>\n",
       "      <td>2</td>\n",
       "      <td>399</td>\n",
       "      <td>26</td>\n",
       "      <td>10009</td>\n",
       "      <td>28</td>\n",
       "      <td>3</td>\n",
       "      <td>31</td>\n",
       "      <td>4616</td>\n",
       "      <td>18690</td>\n",
       "      <td>1900</td>\n",
       "      <td>2</td>\n",
       "      <td>-</td>\n",
       "    </tr>\n",
       "    <tr>\n",
       "      <th>2</th>\n",
       "      <td>Manhattan</td>\n",
       "      <td>07 RENTALS - WALKUP APARTMENTS</td>\n",
       "      <td>2</td>\n",
       "      <td>399</td>\n",
       "      <td>39</td>\n",
       "      <td>10009</td>\n",
       "      <td>16</td>\n",
       "      <td>1</td>\n",
       "      <td>17</td>\n",
       "      <td>2212</td>\n",
       "      <td>7803</td>\n",
       "      <td>1900</td>\n",
       "      <td>2</td>\n",
       "      <td>-</td>\n",
       "    </tr>\n",
       "    <tr>\n",
       "      <th>3</th>\n",
       "      <td>Manhattan</td>\n",
       "      <td>07 RENTALS - WALKUP APARTMENTS</td>\n",
       "      <td>2B</td>\n",
       "      <td>402</td>\n",
       "      <td>21</td>\n",
       "      <td>10009</td>\n",
       "      <td>10</td>\n",
       "      <td>0</td>\n",
       "      <td>10</td>\n",
       "      <td>2272</td>\n",
       "      <td>6794</td>\n",
       "      <td>1913</td>\n",
       "      <td>2</td>\n",
       "      <td>3936272</td>\n",
       "    </tr>\n",
       "    <tr>\n",
       "      <th>4</th>\n",
       "      <td>Manhattan</td>\n",
       "      <td>07 RENTALS - WALKUP APARTMENTS</td>\n",
       "      <td>2A</td>\n",
       "      <td>404</td>\n",
       "      <td>55</td>\n",
       "      <td>10009</td>\n",
       "      <td>6</td>\n",
       "      <td>0</td>\n",
       "      <td>6</td>\n",
       "      <td>2369</td>\n",
       "      <td>4615</td>\n",
       "      <td>1900</td>\n",
       "      <td>2</td>\n",
       "      <td>8000000</td>\n",
       "    </tr>\n",
       "  </tbody>\n",
       "</table>\n",
       "</div>"
      ],
      "text/plain": [
       "     BOROUGH                      BUILDING CLASS CATEGORY  \\\n",
       "0  Manhattan  07 RENTALS - WALKUP APARTMENTS                \n",
       "1  Manhattan  07 RENTALS - WALKUP APARTMENTS                \n",
       "2  Manhattan  07 RENTALS - WALKUP APARTMENTS                \n",
       "3  Manhattan  07 RENTALS - WALKUP APARTMENTS                \n",
       "4  Manhattan  07 RENTALS - WALKUP APARTMENTS                \n",
       "\n",
       "  TAX CLASS AT PRESENT  BLOCK  LOT  ZIP CODE  RESIDENTIAL UNITS  \\\n",
       "0                   2A    392    6     10009                  5   \n",
       "1                    2    399   26     10009                 28   \n",
       "2                    2    399   39     10009                 16   \n",
       "3                   2B    402   21     10009                 10   \n",
       "4                   2A    404   55     10009                  6   \n",
       "\n",
       "   COMMERCIAL UNITS  TOTAL UNITS LAND SQUARE FEET GROSS SQUARE FEET  \\\n",
       "0                 0            5             1633              6440   \n",
       "1                 3           31             4616             18690   \n",
       "2                 1           17             2212              7803   \n",
       "3                 0           10             2272              6794   \n",
       "4                 0            6             2369              4615   \n",
       "\n",
       "   YEAR BUILT  TAX CLASS AT TIME OF SALE SALE PRICE  \n",
       "0        1900                          2    6625000  \n",
       "1        1900                          2        -    \n",
       "2        1900                          2        -    \n",
       "3        1913                          2    3936272  \n",
       "4        1900                          2    8000000  "
      ]
     },
     "execution_count": 5,
     "metadata": {},
     "output_type": "execute_result"
    }
   ],
   "source": [
    "df['BOROUGH'][df['BOROUGH'] == 1] = 'Manhattan'\n",
    "df['BOROUGH'][df['BOROUGH'] == 2] = 'Bronx'\n",
    "df['BOROUGH'][df['BOROUGH'] == 3] = 'Brooklyn'\n",
    "df['BOROUGH'][df['BOROUGH'] == 4] = 'Queens'\n",
    "df['BOROUGH'][df['BOROUGH'] == 5] = 'Staten Island'\n",
    "df.head()"
   ]
  },
  {
   "cell_type": "code",
   "execution_count": 6,
   "metadata": {},
   "outputs": [
    {
     "data": {
      "text/html": [
       "<div>\n",
       "<style scoped>\n",
       "    .dataframe tbody tr th:only-of-type {\n",
       "        vertical-align: middle;\n",
       "    }\n",
       "\n",
       "    .dataframe tbody tr th {\n",
       "        vertical-align: top;\n",
       "    }\n",
       "\n",
       "    .dataframe thead th {\n",
       "        text-align: right;\n",
       "    }\n",
       "</style>\n",
       "<table border=\"1\" class=\"dataframe\">\n",
       "  <thead>\n",
       "    <tr style=\"text-align: right;\">\n",
       "      <th></th>\n",
       "      <th>BOROUGH</th>\n",
       "      <th>BUILDING CLASS CATEGORY</th>\n",
       "      <th>TAX CLASS AT PRESENT</th>\n",
       "      <th>BLOCK</th>\n",
       "      <th>LOT</th>\n",
       "      <th>ZIP CODE</th>\n",
       "      <th>RESIDENTIAL UNITS</th>\n",
       "      <th>COMMERCIAL UNITS</th>\n",
       "      <th>TOTAL UNITS</th>\n",
       "      <th>LAND SQUARE FEET</th>\n",
       "      <th>GROSS SQUARE FEET</th>\n",
       "      <th>YEAR BUILT</th>\n",
       "      <th>TAX CLASS AT TIME OF SALE</th>\n",
       "      <th>SALE PRICE</th>\n",
       "    </tr>\n",
       "  </thead>\n",
       "  <tbody>\n",
       "    <tr>\n",
       "      <th>0</th>\n",
       "      <td>Manhattan</td>\n",
       "      <td>07 RENTALS - WALKUP APARTMENTS</td>\n",
       "      <td>2A</td>\n",
       "      <td>392</td>\n",
       "      <td>6</td>\n",
       "      <td>10009</td>\n",
       "      <td>5</td>\n",
       "      <td>0</td>\n",
       "      <td>5</td>\n",
       "      <td>1633.0</td>\n",
       "      <td>6440.0</td>\n",
       "      <td>1900</td>\n",
       "      <td>2</td>\n",
       "      <td>6625000.0</td>\n",
       "    </tr>\n",
       "    <tr>\n",
       "      <th>1</th>\n",
       "      <td>Manhattan</td>\n",
       "      <td>07 RENTALS - WALKUP APARTMENTS</td>\n",
       "      <td>2</td>\n",
       "      <td>399</td>\n",
       "      <td>26</td>\n",
       "      <td>10009</td>\n",
       "      <td>28</td>\n",
       "      <td>3</td>\n",
       "      <td>31</td>\n",
       "      <td>4616.0</td>\n",
       "      <td>18690.0</td>\n",
       "      <td>1900</td>\n",
       "      <td>2</td>\n",
       "      <td>NaN</td>\n",
       "    </tr>\n",
       "    <tr>\n",
       "      <th>2</th>\n",
       "      <td>Manhattan</td>\n",
       "      <td>07 RENTALS - WALKUP APARTMENTS</td>\n",
       "      <td>2</td>\n",
       "      <td>399</td>\n",
       "      <td>39</td>\n",
       "      <td>10009</td>\n",
       "      <td>16</td>\n",
       "      <td>1</td>\n",
       "      <td>17</td>\n",
       "      <td>2212.0</td>\n",
       "      <td>7803.0</td>\n",
       "      <td>1900</td>\n",
       "      <td>2</td>\n",
       "      <td>NaN</td>\n",
       "    </tr>\n",
       "    <tr>\n",
       "      <th>3</th>\n",
       "      <td>Manhattan</td>\n",
       "      <td>07 RENTALS - WALKUP APARTMENTS</td>\n",
       "      <td>2B</td>\n",
       "      <td>402</td>\n",
       "      <td>21</td>\n",
       "      <td>10009</td>\n",
       "      <td>10</td>\n",
       "      <td>0</td>\n",
       "      <td>10</td>\n",
       "      <td>2272.0</td>\n",
       "      <td>6794.0</td>\n",
       "      <td>1913</td>\n",
       "      <td>2</td>\n",
       "      <td>3936272.0</td>\n",
       "    </tr>\n",
       "    <tr>\n",
       "      <th>4</th>\n",
       "      <td>Manhattan</td>\n",
       "      <td>07 RENTALS - WALKUP APARTMENTS</td>\n",
       "      <td>2A</td>\n",
       "      <td>404</td>\n",
       "      <td>55</td>\n",
       "      <td>10009</td>\n",
       "      <td>6</td>\n",
       "      <td>0</td>\n",
       "      <td>6</td>\n",
       "      <td>2369.0</td>\n",
       "      <td>4615.0</td>\n",
       "      <td>1900</td>\n",
       "      <td>2</td>\n",
       "      <td>8000000.0</td>\n",
       "    </tr>\n",
       "  </tbody>\n",
       "</table>\n",
       "</div>"
      ],
      "text/plain": [
       "     BOROUGH                      BUILDING CLASS CATEGORY  \\\n",
       "0  Manhattan  07 RENTALS - WALKUP APARTMENTS                \n",
       "1  Manhattan  07 RENTALS - WALKUP APARTMENTS                \n",
       "2  Manhattan  07 RENTALS - WALKUP APARTMENTS                \n",
       "3  Manhattan  07 RENTALS - WALKUP APARTMENTS                \n",
       "4  Manhattan  07 RENTALS - WALKUP APARTMENTS                \n",
       "\n",
       "  TAX CLASS AT PRESENT  BLOCK  LOT  ZIP CODE  RESIDENTIAL UNITS  \\\n",
       "0                   2A    392    6     10009                  5   \n",
       "1                    2    399   26     10009                 28   \n",
       "2                    2    399   39     10009                 16   \n",
       "3                   2B    402   21     10009                 10   \n",
       "4                   2A    404   55     10009                  6   \n",
       "\n",
       "   COMMERCIAL UNITS  TOTAL UNITS  LAND SQUARE FEET  GROSS SQUARE FEET  \\\n",
       "0                 0            5            1633.0             6440.0   \n",
       "1                 3           31            4616.0            18690.0   \n",
       "2                 1           17            2212.0             7803.0   \n",
       "3                 0           10            2272.0             6794.0   \n",
       "4                 0            6            2369.0             4615.0   \n",
       "\n",
       "   YEAR BUILT  TAX CLASS AT TIME OF SALE  SALE PRICE  \n",
       "0        1900                          2   6625000.0  \n",
       "1        1900                          2         NaN  \n",
       "2        1900                          2         NaN  \n",
       "3        1913                          2   3936272.0  \n",
       "4        1900                          2   8000000.0  "
      ]
     },
     "execution_count": 6,
     "metadata": {},
     "output_type": "execute_result"
    }
   ],
   "source": [
    "df['SALE PRICE'] = pd.to_numeric(df['SALE PRICE'], errors='coerce')\n",
    "df['LAND SQUARE FEET'] = pd.to_numeric(df['LAND SQUARE FEET'], errors='coerce')\n",
    "df['GROSS SQUARE FEET']= pd.to_numeric(df['GROSS SQUARE FEET'], errors='coerce')\n",
    "df.head()"
   ]
  },
  {
   "cell_type": "code",
   "execution_count": 211,
   "metadata": {},
   "outputs": [
    {
     "data": {
      "text/html": [
       "<div>\n",
       "<style scoped>\n",
       "    .dataframe tbody tr th:only-of-type {\n",
       "        vertical-align: middle;\n",
       "    }\n",
       "\n",
       "    .dataframe tbody tr th {\n",
       "        vertical-align: top;\n",
       "    }\n",
       "\n",
       "    .dataframe thead th {\n",
       "        text-align: right;\n",
       "    }\n",
       "</style>\n",
       "<table border=\"1\" class=\"dataframe\">\n",
       "  <thead>\n",
       "    <tr style=\"text-align: right;\">\n",
       "      <th></th>\n",
       "      <th>BOROUGH</th>\n",
       "      <th>RESIDENTIAL UNITS</th>\n",
       "      <th>COMMERCIAL UNITS</th>\n",
       "      <th>GROSS SQUARE FEET</th>\n",
       "      <th>LAND SQUARE FEET</th>\n",
       "      <th>ZIP CODE</th>\n",
       "      <th>YEAR BUILT</th>\n",
       "      <th>LOT</th>\n",
       "      <th>SALE PRICE</th>\n",
       "    </tr>\n",
       "  </thead>\n",
       "  <tbody>\n",
       "    <tr>\n",
       "      <th>0</th>\n",
       "      <td>Manhattan</td>\n",
       "      <td>5</td>\n",
       "      <td>0</td>\n",
       "      <td>6440.0</td>\n",
       "      <td>1633.0</td>\n",
       "      <td>10009</td>\n",
       "      <td>1900</td>\n",
       "      <td>6</td>\n",
       "      <td>6625000.0</td>\n",
       "    </tr>\n",
       "    <tr>\n",
       "      <th>3</th>\n",
       "      <td>Manhattan</td>\n",
       "      <td>10</td>\n",
       "      <td>0</td>\n",
       "      <td>6794.0</td>\n",
       "      <td>2272.0</td>\n",
       "      <td>10009</td>\n",
       "      <td>1913</td>\n",
       "      <td>21</td>\n",
       "      <td>3936272.0</td>\n",
       "    </tr>\n",
       "    <tr>\n",
       "      <th>4</th>\n",
       "      <td>Manhattan</td>\n",
       "      <td>6</td>\n",
       "      <td>0</td>\n",
       "      <td>4615.0</td>\n",
       "      <td>2369.0</td>\n",
       "      <td>10009</td>\n",
       "      <td>1900</td>\n",
       "      <td>55</td>\n",
       "      <td>8000000.0</td>\n",
       "    </tr>\n",
       "    <tr>\n",
       "      <th>6</th>\n",
       "      <td>Manhattan</td>\n",
       "      <td>8</td>\n",
       "      <td>0</td>\n",
       "      <td>4226.0</td>\n",
       "      <td>1750.0</td>\n",
       "      <td>10009</td>\n",
       "      <td>1920</td>\n",
       "      <td>32</td>\n",
       "      <td>3192840.0</td>\n",
       "    </tr>\n",
       "    <tr>\n",
       "      <th>9</th>\n",
       "      <td>Manhattan</td>\n",
       "      <td>24</td>\n",
       "      <td>0</td>\n",
       "      <td>18523.0</td>\n",
       "      <td>4489.0</td>\n",
       "      <td>10009</td>\n",
       "      <td>1920</td>\n",
       "      <td>153</td>\n",
       "      <td>16232000.0</td>\n",
       "    </tr>\n",
       "  </tbody>\n",
       "</table>\n",
       "</div>"
      ],
      "text/plain": [
       "     BOROUGH  RESIDENTIAL UNITS  COMMERCIAL UNITS  GROSS SQUARE FEET  \\\n",
       "0  Manhattan                  5                 0             6440.0   \n",
       "3  Manhattan                 10                 0             6794.0   \n",
       "4  Manhattan                  6                 0             4615.0   \n",
       "6  Manhattan                  8                 0             4226.0   \n",
       "9  Manhattan                 24                 0            18523.0   \n",
       "\n",
       "   LAND SQUARE FEET  ZIP CODE  YEAR BUILT  LOT  SALE PRICE  \n",
       "0            1633.0     10009        1900    6   6625000.0  \n",
       "3            2272.0     10009        1913   21   3936272.0  \n",
       "4            2369.0     10009        1900   55   8000000.0  \n",
       "6            1750.0     10009        1920   32   3192840.0  \n",
       "9            4489.0     10009        1920  153  16232000.0  "
      ]
     },
     "execution_count": 211,
     "metadata": {},
     "output_type": "execute_result"
    }
   ],
   "source": [
    "df_replace = df.loc[(df['SALE PRICE'].replace(' -  ','0').astype(float) > 0.00),['BOROUGH','RESIDENTIAL UNITS','COMMERCIAL UNITS','GROSS SQUARE FEET','LAND SQUARE FEET','ZIP CODE','YEAR BUILT', 'LOT','SALE PRICE']]\n",
    "df_replace.head()"
   ]
  },
  {
   "cell_type": "code",
   "execution_count": 212,
   "metadata": {},
   "outputs": [
    {
     "ename": "NameError",
     "evalue": "name 'dataset' is not defined",
     "output_type": "error",
     "traceback": [
      "\u001b[0;31m---------------------------------------------------------------------------\u001b[0m",
      "\u001b[0;31mNameError\u001b[0m                                 Traceback (most recent call last)",
      "\u001b[0;32m<ipython-input-212-34dff9d816b0>\u001b[0m in \u001b[0;36m<module>\u001b[0;34m\u001b[0m\n\u001b[0;32m----> 1\u001b[0;31m \u001b[0mdataset\u001b[0m\u001b[0;34m.\u001b[0m\u001b[0mdrop_duplicates\u001b[0m\u001b[0;34m(\u001b[0m\u001b[0mkeep\u001b[0m\u001b[0;34m=\u001b[0m\u001b[0;32mFalse\u001b[0m\u001b[0;34m,\u001b[0m \u001b[0minplace\u001b[0m \u001b[0;34m=\u001b[0m \u001b[0;32mTrue\u001b[0m\u001b[0;34m)\u001b[0m\u001b[0;34m\u001b[0m\u001b[0;34m\u001b[0m\u001b[0m\n\u001b[0m\u001b[1;32m      2\u001b[0m \u001b[0mdataset\u001b[0m\u001b[0;34m.\u001b[0m\u001b[0mduplicated\u001b[0m\u001b[0;34m(\u001b[0m\u001b[0mkeep\u001b[0m\u001b[0;34m=\u001b[0m\u001b[0;32mFalse\u001b[0m\u001b[0;34m)\u001b[0m\u001b[0;34m.\u001b[0m\u001b[0msum\u001b[0m\u001b[0;34m(\u001b[0m\u001b[0;34m)\u001b[0m\u001b[0;34m\u001b[0m\u001b[0;34m\u001b[0m\u001b[0m\n",
      "\u001b[0;31mNameError\u001b[0m: name 'dataset' is not defined"
     ]
    }
   ],
   "source": [
    "dataset.drop_duplicates(keep=False, inplace = True)\n",
    "dataset.duplicated(keep=False).sum()"
   ]
  },
  {
   "cell_type": "code",
   "execution_count": 61,
   "metadata": {},
   "outputs": [],
   "source": [
    "df_sales = df_replace[[\"SALE PRICE\",\"RESIDENTIAL UNITS\",\"COMMERCIAL UNITS\",\"GROSS SQUARE FEET\",\"LAND SQUARE FEET\",\"YEAR BUILT\",\"LOT\", \"BOROUGH\"]].describe()"
   ]
  },
  {
   "cell_type": "code",
   "execution_count": null,
   "metadata": {},
   "outputs": [],
   "source": []
  },
  {
   "cell_type": "code",
   "execution_count": 62,
   "metadata": {},
   "outputs": [
    {
     "data": {
      "text/plain": [
       "Queens           18441\n",
       "Brooklyn         15690\n",
       "Manhattan        14439\n",
       "Staten Island     6011\n",
       "Bronx             5178\n",
       "Name: BOROUGH, dtype: int64"
      ]
     },
     "execution_count": 62,
     "metadata": {},
     "output_type": "execute_result"
    }
   ],
   "source": [
    "df_replace['BOROUGH'].value_counts()"
   ]
  },
  {
   "cell_type": "code",
   "execution_count": 63,
   "metadata": {},
   "outputs": [],
   "source": [
    "# Remove observations that fall outside those caps\n",
    "df_sales_nonoutliers = df_sales[(df_sales['SALE PRICE'] > 100000) & (df_sales['SALE PRICE'] < 5000000) & (df_sales['RESIDENTIAL UNITS'] > 0) & (df_sales['GROSS SQUARE FEET'] > 0) & (df_sales['GROSS SQUARE FEET'] < 10000)]"
   ]
  },
  {
   "cell_type": "code",
   "execution_count": 64,
   "metadata": {},
   "outputs": [
    {
     "name": "stdout",
     "output_type": "stream",
     "text": [
      "                   SALE PRICE  RESIDENTIAL UNITS  COMMERCIAL UNITS  \\\n",
      "SALE PRICE           1.000000           0.713339          0.859454   \n",
      "RESIDENTIAL UNITS    0.713339           1.000000          0.254814   \n",
      "COMMERCIAL UNITS     0.859454           0.254814          1.000000   \n",
      "GROSS SQUARE FEET    0.991166           0.614087          0.919663   \n",
      "LAND SQUARE FEET     0.974538           0.852316          0.722944   \n",
      "YEAR BUILT          -0.769404          -0.101189         -0.987811   \n",
      "LOT                  0.365359           0.912994         -0.161862   \n",
      "\n",
      "                   GROSS SQUARE FEET  LAND SQUARE FEET  YEAR BUILT       LOT  \n",
      "SALE PRICE                  0.991166          0.974538   -0.769404  0.365359  \n",
      "RESIDENTIAL UNITS           0.614087          0.852316   -0.101189  0.912994  \n",
      "COMMERCIAL UNITS            0.919663          0.722944   -0.987811 -0.161862  \n",
      "GROSS SQUARE FEET           1.000000          0.936190   -0.847326  0.238671  \n",
      "LAND SQUARE FEET            0.936190          1.000000   -0.606588  0.564778  \n",
      "YEAR BUILT                 -0.847326         -0.606588    1.000000  0.313494  \n",
      "LOT                         0.238671          0.564778    0.313494  1.000000  \n"
     ]
    },
    {
     "data": {
      "image/png": "[encoded data removed]",
      "text/plain": [
       "<Figure size 864x648 with 2 Axes>"
      ]
     },
     "metadata": {
      "needs_background": "light"
     },
     "output_type": "display_data"
    }
   ],
   "source": [
    "# Make the correlation matrix.\n",
    "corrmat = df_sales_nonoutliers.corr()\n",
    "print(corrmat)\n",
    "\n",
    "# Set up the matplotlib figure.\n",
    "f, ax = plt.subplots(figsize=(12, 9))\n",
    "\n",
    "# Draw the heatmap using seaborn.\n",
    "sns.heatmap(corrmat, vmax=.8, square=True)\n",
    "plt.show()\n",
    "# Heatmaps are a great way to get a quick visual read on a big correlation matrix.\n",
    "\n",
    "# Try to match the correlation numbers to the scatterplots above to get a \n",
    "# sense of what each magnitude of correlation can look like."
   ]
  },
  {
   "cell_type": "code",
   "execution_count": 127,
   "metadata": {},
   "outputs": [
    {
     "data": {
      "text/plain": [
       "BOROUGH                  0\n",
       "RESIDENTIAL UNITS        0\n",
       "COMMERCIAL UNITS         0\n",
       "GROSS SQUARE FEET    21739\n",
       "LAND SQUARE FEET     21188\n",
       "ZIP CODE                 0\n",
       "YEAR BUILT               0\n",
       "LOT                      0\n",
       "SALE PRICE               0\n",
       "dtype: int64"
      ]
     },
     "execution_count": 127,
     "metadata": {},
     "output_type": "execute_result"
    }
   ],
   "source": [
    "df_replace.isnull().sum()"
   ]
  },
  {
   "cell_type": "code",
   "execution_count": 164,
   "metadata": {},
   "outputs": [],
   "source": [
    "df_replace['YEAR BUILT'] = np.nan_to_num(df_replace['YEAR BUILT']).astype(np.int64)\n",
    "df_replace['SALE PRICE'] = np.nan_to_num(df_replace['SALE PRICE']).astype(np.int64)\n",
    "df_replace['ZIP CODE'] = np.nan_to_num(df_replace['ZIP CODE']).astype(np.int64)\n",
    "df_replace['LAND SQUARE FEET'] = np.nan_to_num(df_replace['LAND SQUARE FEET']).astype(np.int64)\n",
    "df_replace['GROSS SQUARE FEET'] = np.nan_to_num(df_replace['GROSS SQUARE FEET']).astype(np.int64)\n",
    "df_replace['LOT'] = np.nan_to_num(df_replace['LOT']).astype(np.int64)\n"
   ]
  },
  {
   "cell_type": "code",
   "execution_count": 165,
   "metadata": {},
   "outputs": [],
   "source": [
    "from sklearn.linear_model import LinearRegression\n",
    "reg = LinearRegression()\n",
    "labels = df_replace['YEAR BUILT']\n",
    "train1 = df_replace.drop(['BOROUGH','ZIP CODE','SALE PRICE'],axis=1)"
   ]
  },
  {
   "cell_type": "code",
   "execution_count": null,
   "metadata": {},
   "outputs": [],
   "source": []
  },
  {
   "cell_type": "code",
   "execution_count": 166,
   "metadata": {},
   "outputs": [],
   "source": [
    "from sklearn.model_selection import train_test_split"
   ]
  },
  {
   "cell_type": "code",
   "execution_count": 167,
   "metadata": {},
   "outputs": [],
   "source": [
    "#train data is set to 90% and 10% of the data to be my test data , and randomized the splitting of data by using random_state.\n",
    "X_train, X_test, y_train, y_test = train_test_split(train1,labels,test_size = 0.10, random_state=2)"
   ]
  },
  {
   "cell_type": "code",
   "execution_count": 187,
   "metadata": {},
   "outputs": [
    {
     "data": {
      "text/plain": [
       "LinearRegression(copy_X=True, fit_intercept=True, n_jobs=None, normalize=False)"
      ]
     },
     "execution_count": 187,
     "metadata": {},
     "output_type": "execute_result"
    }
   ],
   "source": [
    "reg.fit(X_train,y_train)\n"
   ]
  },
  {
   "cell_type": "code",
   "execution_count": 188,
   "metadata": {},
   "outputs": [
    {
     "data": {
      "text/plain": [
       "0.08428274561776439"
      ]
     },
     "execution_count": 188,
     "metadata": {},
     "output_type": "execute_result"
    }
   ],
   "source": [
    "reg.score(X_test,y_test)\n"
   ]
  },
  {
   "cell_type": "code",
   "execution_count": 189,
   "metadata": {},
   "outputs": [
    {
     "data": {
      "text/plain": [
       "count    59759.000000\n",
       "mean      1810.107599\n",
       "std        505.745865\n",
       "min          0.000000\n",
       "25%       1920.000000\n",
       "50%       1940.000000\n",
       "75%       1966.000000\n",
       "max       2017.000000\n",
       "Name: YEAR BUILT, dtype: float64"
      ]
     },
     "execution_count": 189,
     "metadata": {},
     "output_type": "execute_result"
    }
   ],
   "source": [
    "df_replace[\"YEAR BUILT\"].fillna(df_replace.groupby([\"YEAR BUILT\",\"LOT\"])[\"YEAR BUILT\"].transform(\"mean\"), inplace=True)\n",
    "df_replace[\"YEAR BUILT\"].describe()"
   ]
  },
  {
   "cell_type": "code",
   "execution_count": 190,
   "metadata": {},
   "outputs": [
    {
     "data": {
      "text/plain": [
       "10          766\n",
       "450000      427\n",
       "550000      416\n",
       "650000      414\n",
       "600000      409\n",
       "700000      382\n",
       "400000      378\n",
       "750000      377\n",
       "300000      351\n",
       "500000      350\n",
       "350000      345\n",
       "800000      331\n",
       "900000      324\n",
       "250000      314\n",
       "850000      309\n",
       "950000      301\n",
       "1100000     298\n",
       "1200000     286\n",
       "1300000     271\n",
       "425000      265\n",
       "525000      259\n",
       "475000      259\n",
       "325000      249\n",
       "480000      233\n",
       "1250000     229\n",
       "625000      224\n",
       "200000      223\n",
       "460000      222\n",
       "420000      217\n",
       "430000      217\n",
       "           ... \n",
       "1329499       1\n",
       "856400        1\n",
       "637157        1\n",
       "3936432       1\n",
       "600392        1\n",
       "131250        1\n",
       "944288        1\n",
       "1255607       1\n",
       "1224900       1\n",
       "201820        1\n",
       "508106        1\n",
       "210           1\n",
       "12500         1\n",
       "26626267      1\n",
       "438500        1\n",
       "329971        1\n",
       "188750        1\n",
       "1390837       1\n",
       "1542648       1\n",
       "1077500       1\n",
       "5280000       1\n",
       "596936        1\n",
       "1290500       1\n",
       "1882373       1\n",
       "925974        1\n",
       "38900000      1\n",
       "2396480       1\n",
       "2064706       1\n",
       "643400        1\n",
       "724994        1\n",
       "Name: SALE PRICE, Length: 10006, dtype: int64"
      ]
     },
     "execution_count": 190,
     "metadata": {},
     "output_type": "execute_result"
    }
   ],
   "source": [
    "df_replace[\"SALE PRICE\"].value_counts()"
   ]
  },
  {
   "cell_type": "code",
   "execution_count": 191,
   "metadata": {},
   "outputs": [],
   "source": [
    "df_replace['SALE PRICE'] = df_replace['SALE PRICE'].replace(0.0, np.nan)"
   ]
  },
  {
   "cell_type": "code",
   "execution_count": 204,
   "metadata": {},
   "outputs": [
    {
     "data": {
      "text/plain": [
       "count    5.975900e+04\n",
       "mean     1.494927e+06\n",
       "std      1.232953e+07\n",
       "min      1.000000e+00\n",
       "25%      3.700000e+05\n",
       "50%      6.255000e+05\n",
       "75%      1.070000e+06\n",
       "max      2.210000e+09\n",
       "Name: SALE PRICE, dtype: float64"
      ]
     },
     "execution_count": 204,
     "metadata": {},
     "output_type": "execute_result"
    }
   ],
   "source": [
    "df[\"SALE PRICE\"].fillna(df_replace.groupby([\"RESIDENTIAL UNITS\",\"LOT\",\"BOROUGH\",\"ZIP CODE\", \"LAND SQUARE FEET\",])[\"SALE PRICE\"].transform(\"mean\"), inplace=True)\n",
    "df[\"SALE PRICE\"].describe()"
   ]
  },
  {
   "cell_type": "code",
   "execution_count": 193,
   "metadata": {},
   "outputs": [],
   "source": [
    "df_replace.dropna(subset=['SALE PRICE'],axis=0,inplace=True)"
   ]
  },
  {
   "cell_type": "code",
   "execution_count": 209,
   "metadata": {},
   "outputs": [],
   "source": [
    "df_final = df_replace.copy()"
   ]
  },
  {
   "cell_type": "code",
   "execution_count": null,
   "metadata": {},
   "outputs": [],
   "source": []
  },
  {
   "cell_type": "code",
   "execution_count": 195,
   "metadata": {},
   "outputs": [],
   "source": [
    "from sklearn.linear_model import LinearRegression\n",
    "reg = LinearRegression()\n",
    "labels = df_replace['SALE PRICE']\n",
    "train1 = df_replace.drop(['BOROUGH','ZIP CODE','SALE PRICE', 'RESIDENTIAL UNITS', 'LOT', 'LAND SQUARE FEET'],axis=1)"
   ]
  },
  {
   "cell_type": "code",
   "execution_count": 196,
   "metadata": {},
   "outputs": [],
   "source": [
    "from sklearn.model_selection import train_test_split"
   ]
  },
  {
   "cell_type": "code",
   "execution_count": 197,
   "metadata": {},
   "outputs": [],
   "source": [
    "X_train, X_test, y_train, y_test = train_test_split(train1,labels,test_size = 0.10, random_state=2)"
   ]
  },
  {
   "cell_type": "code",
   "execution_count": 198,
   "metadata": {},
   "outputs": [
    {
     "data": {
      "text/plain": [
       "<map at 0x1a26e1f470>"
      ]
     },
     "execution_count": 198,
     "metadata": {},
     "output_type": "execute_result"
    }
   ],
   "source": [
    "map(pd.np.shape,[X_train, X_test, y_train, y_test])\n"
   ]
  },
  {
   "cell_type": "code",
   "execution_count": 199,
   "metadata": {},
   "outputs": [
    {
     "data": {
      "text/plain": [
       "LinearRegression(copy_X=True, fit_intercept=True, n_jobs=None, normalize=False)"
      ]
     },
     "execution_count": 199,
     "metadata": {},
     "output_type": "execute_result"
    }
   ],
   "source": [
    "reg.fit(X_train,y_train)"
   ]
  },
  {
   "cell_type": "code",
   "execution_count": 203,
   "metadata": {},
   "outputs": [
    {
     "data": {
      "text/plain": [
       "0.08428274561776439"
      ]
     },
     "execution_count": 203,
     "metadata": {},
     "output_type": "execute_result"
    }
   ],
   "source": [
    "reg.score(X_test,y_test)"
   ]
  },
  {
   "cell_type": "code",
   "execution_count": 201,
   "metadata": {},
   "outputs": [
    {
     "name": "stdout",
     "output_type": "stream",
     "text": [
      "<class 'pandas.core.frame.DataFrame'>\n",
      "Int64Index: 59759 entries, 0 to 84547\n",
      "Data columns (total 9 columns):\n",
      "BOROUGH              59759 non-null object\n",
      "RESIDENTIAL UNITS    59759 non-null int64\n",
      "COMMERCIAL UNITS     59759 non-null int64\n",
      "GROSS SQUARE FEET    59759 non-null int64\n",
      "LAND SQUARE FEET     59759 non-null int64\n",
      "ZIP CODE             59759 non-null int64\n",
      "YEAR BUILT           59759 non-null int64\n",
      "LOT                  59759 non-null int64\n",
      "SALE PRICE           59759 non-null int64\n",
      "dtypes: int64(8), object(1)\n",
      "memory usage: 4.6+ MB\n"
     ]
    }
   ],
   "source": [
    "df_final.info()"
   ]
  },
  {
   "cell_type": "code",
   "execution_count": 202,
   "metadata": {},
   "outputs": [
    {
     "data": {
      "text/html": [
       "<div>\n",
       "<style scoped>\n",
       "    .dataframe tbody tr th:only-of-type {\n",
       "        vertical-align: middle;\n",
       "    }\n",
       "\n",
       "    .dataframe tbody tr th {\n",
       "        vertical-align: top;\n",
       "    }\n",
       "\n",
       "    .dataframe thead th {\n",
       "        text-align: right;\n",
       "    }\n",
       "</style>\n",
       "<table border=\"1\" class=\"dataframe\">\n",
       "  <thead>\n",
       "    <tr style=\"text-align: right;\">\n",
       "      <th></th>\n",
       "      <th>BOROUGH</th>\n",
       "      <th>RESIDENTIAL UNITS</th>\n",
       "      <th>COMMERCIAL UNITS</th>\n",
       "      <th>GROSS SQUARE FEET</th>\n",
       "      <th>LAND SQUARE FEET</th>\n",
       "      <th>ZIP CODE</th>\n",
       "      <th>YEAR BUILT</th>\n",
       "      <th>LOT</th>\n",
       "      <th>SALE PRICE</th>\n",
       "    </tr>\n",
       "  </thead>\n",
       "  <tbody>\n",
       "    <tr>\n",
       "      <th>0</th>\n",
       "      <td>Manhattan</td>\n",
       "      <td>5</td>\n",
       "      <td>0</td>\n",
       "      <td>6440</td>\n",
       "      <td>1633</td>\n",
       "      <td>10009</td>\n",
       "      <td>1900</td>\n",
       "      <td>6</td>\n",
       "      <td>6625000</td>\n",
       "    </tr>\n",
       "    <tr>\n",
       "      <th>3</th>\n",
       "      <td>Manhattan</td>\n",
       "      <td>10</td>\n",
       "      <td>0</td>\n",
       "      <td>6794</td>\n",
       "      <td>2272</td>\n",
       "      <td>10009</td>\n",
       "      <td>1913</td>\n",
       "      <td>21</td>\n",
       "      <td>3936272</td>\n",
       "    </tr>\n",
       "    <tr>\n",
       "      <th>4</th>\n",
       "      <td>Manhattan</td>\n",
       "      <td>6</td>\n",
       "      <td>0</td>\n",
       "      <td>4615</td>\n",
       "      <td>2369</td>\n",
       "      <td>10009</td>\n",
       "      <td>1900</td>\n",
       "      <td>55</td>\n",
       "      <td>8000000</td>\n",
       "    </tr>\n",
       "    <tr>\n",
       "      <th>6</th>\n",
       "      <td>Manhattan</td>\n",
       "      <td>8</td>\n",
       "      <td>0</td>\n",
       "      <td>4226</td>\n",
       "      <td>1750</td>\n",
       "      <td>10009</td>\n",
       "      <td>1920</td>\n",
       "      <td>32</td>\n",
       "      <td>3192840</td>\n",
       "    </tr>\n",
       "    <tr>\n",
       "      <th>9</th>\n",
       "      <td>Manhattan</td>\n",
       "      <td>24</td>\n",
       "      <td>0</td>\n",
       "      <td>18523</td>\n",
       "      <td>4489</td>\n",
       "      <td>10009</td>\n",
       "      <td>1920</td>\n",
       "      <td>153</td>\n",
       "      <td>16232000</td>\n",
       "    </tr>\n",
       "  </tbody>\n",
       "</table>\n",
       "</div>"
      ],
      "text/plain": [
       "     BOROUGH  RESIDENTIAL UNITS  COMMERCIAL UNITS  GROSS SQUARE FEET  \\\n",
       "0  Manhattan                  5                 0               6440   \n",
       "3  Manhattan                 10                 0               6794   \n",
       "4  Manhattan                  6                 0               4615   \n",
       "6  Manhattan                  8                 0               4226   \n",
       "9  Manhattan                 24                 0              18523   \n",
       "\n",
       "   LAND SQUARE FEET  ZIP CODE  YEAR BUILT  LOT  SALE PRICE  \n",
       "0              1633     10009        1900    6     6625000  \n",
       "3              2272     10009        1913   21     3936272  \n",
       "4              2369     10009        1900   55     8000000  \n",
       "6              1750     10009        1920   32     3192840  \n",
       "9              4489     10009        1920  153    16232000  "
      ]
     },
     "execution_count": 202,
     "metadata": {},
     "output_type": "execute_result"
    }
   ],
   "source": [
    "df_final.head()"
   ]
  },
  {
   "cell_type": "code",
   "execution_count": null,
   "metadata": {},
   "outputs": [],
   "source": []
  }
 ],
 "metadata": {
  "kernelspec": {
   "display_name": "Python 3",
   "language": "python",
   "name": "python3"
  },
  "language_info": {
   "codemirror_mode": {
    "name": "ipython",
    "version": 3
   },
   "file_extension": ".py",
   "mimetype": "text/x-python",
   "name": "python",
   "nbconvert_exporter": "python",
   "pygments_lexer": "ipython3",
   "version": "3.7.3"
  }
 },
 "nbformat": 4,
 "nbformat_minor": 2
}
